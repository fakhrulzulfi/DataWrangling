{
  "nbformat": 4,
  "nbformat_minor": 0,
  "metadata": {
    "colab": {
      "name": "WranglingBeginner.ipynb",
      "provenance": [],
      "collapsed_sections": [
        "hOx95pwSxjA3"
      ],
      "toc_visible": true
    },
    "kernelspec": {
      "name": "python3",
      "display_name": "Python 3"
    }
  },
  "cells": [
    {
      "cell_type": "markdown",
      "metadata": {
        "id": "hOx95pwSxjA3"
      },
      "source": [
        "# **Case Study - Analisis NYC 311 Service Requests**\n",
        "\n",
        "311 Service Requests adalah permintaan yang dibuat oleh penduduk untuk layanan kota seperti keluhan kebisingan, atau masalah dengan air dan utilitas. Setiap permintaan dicatat bersama dengan beberapa informasi terkait seperti jenis permintaan dan di kota mana permintaan tersebut berasal.\n",
        "\n",
        "Kumpulan data lengkap diperbarui setiap hari dan dapat diakses di [[NYC Open Data Wesbite](https://nycopendata.socrata.com/Social-Services/311-Service-Requests-from-2010-to-Present/erm2-nwe9).]\n",
        "\n",
        "Study Case Event hari ini hanya akan membahas sebagian kecil data di bulan April 2018. Kita akan coba untuk mencari tau, bagian kota mana yang paling sering komplain pada hari Minggu?\n",
        "\n"
      ]
    },
    {
      "cell_type": "markdown",
      "metadata": {
        "id": "L4woT4nZ30oh"
      },
      "source": [
        "# **Import Library**"
      ]
    },
    {
      "cell_type": "code",
      "metadata": {
        "id": "v9Y1vyvOkFqr"
      },
      "source": [
        "import pandas as pd\n",
        "import numpy as np\n",
        "import matplotlib.pyplot as plt"
      ],
      "execution_count": 1,
      "outputs": []
    },
    {
      "cell_type": "markdown",
      "metadata": {
        "id": "YG2ti9-w4R5S"
      },
      "source": [
        "# **Baca Data**\n",
        "\n",
        "Gunakan fungsi Pandas **read_csv()** , dan kenali bagaimana struktur atau bentuk datanya dengan menggunakan fungsi **head()**, **tail()**, **info()**, **describe()**, **shape()** "
      ]
    },
    {
      "cell_type": "code",
      "metadata": {
        "id": "QpgMIiym6q_7",
        "outputId": "54d8704f-e9f7-4627-fa94-eb20aeeb44cd",
        "colab": {
          "base_uri": "https://localhost:8080/"
        }
      },
      "source": [
        "df =  pd.read_csv('311_Service_Requests_APRIL2018.csv')"
      ],
      "execution_count": 3,
      "outputs": [
        {
          "output_type": "stream",
          "text": [
            "/usr/local/lib/python3.6/dist-packages/IPython/core/interactiveshell.py:2718: DtypeWarning: Columns (17) have mixed types.Specify dtype option on import or set low_memory=False.\n",
            "  interactivity=interactivity, compiler=compiler, result=result)\n"
          ],
          "name": "stderr"
        }
      ]
    },
    {
      "cell_type": "code",
      "metadata": {
        "id": "lXaHXMrH7PuZ",
        "outputId": "1a5efa84-d918-405e-afa7-e224e306f923",
        "colab": {
          "base_uri": "https://localhost:8080/",
          "height": 626
        }
      },
      "source": [
        "df.head(5)"
      ],
      "execution_count": 4,
      "outputs": [
        {
          "output_type": "execute_result",
          "data": {
            "text/html": [
              "<div>\n",
              "<style scoped>\n",
              "    .dataframe tbody tr th:only-of-type {\n",
              "        vertical-align: middle;\n",
              "    }\n",
              "\n",
              "    .dataframe tbody tr th {\n",
              "        vertical-align: top;\n",
              "    }\n",
              "\n",
              "    .dataframe thead th {\n",
              "        text-align: right;\n",
              "    }\n",
              "</style>\n",
              "<table border=\"1\" class=\"dataframe\">\n",
              "  <thead>\n",
              "    <tr style=\"text-align: right;\">\n",
              "      <th></th>\n",
              "      <th>Unique Key</th>\n",
              "      <th>Created Date</th>\n",
              "      <th>Closed Date</th>\n",
              "      <th>Agency</th>\n",
              "      <th>Agency Name</th>\n",
              "      <th>Complaint Type</th>\n",
              "      <th>Descriptor</th>\n",
              "      <th>Location Type</th>\n",
              "      <th>Incident Zip</th>\n",
              "      <th>Incident Address</th>\n",
              "      <th>Street Name</th>\n",
              "      <th>Cross Street 1</th>\n",
              "      <th>Cross Street 2</th>\n",
              "      <th>Intersection Street 1</th>\n",
              "      <th>Intersection Street 2</th>\n",
              "      <th>Address Type</th>\n",
              "      <th>City</th>\n",
              "      <th>Landmark</th>\n",
              "      <th>Facility Type</th>\n",
              "      <th>Status</th>\n",
              "      <th>Due Date</th>\n",
              "      <th>Resolution Description</th>\n",
              "      <th>Resolution Action Updated Date</th>\n",
              "      <th>Community Board</th>\n",
              "      <th>BBL</th>\n",
              "      <th>Borough</th>\n",
              "      <th>X Coordinate (State Plane)</th>\n",
              "      <th>Y Coordinate (State Plane)</th>\n",
              "      <th>Open Data Channel Type</th>\n",
              "      <th>Park Facility Name</th>\n",
              "      <th>Park Borough</th>\n",
              "      <th>Vehicle Type</th>\n",
              "      <th>Taxi Company Borough</th>\n",
              "      <th>Taxi Pick Up Location</th>\n",
              "      <th>Bridge Highway Name</th>\n",
              "      <th>Bridge Highway Direction</th>\n",
              "      <th>Road Ramp</th>\n",
              "      <th>Bridge Highway Segment</th>\n",
              "      <th>Latitude</th>\n",
              "      <th>Longitude</th>\n",
              "      <th>Location</th>\n",
              "    </tr>\n",
              "  </thead>\n",
              "  <tbody>\n",
              "    <tr>\n",
              "      <th>0</th>\n",
              "      <td>38837194</td>\n",
              "      <td>04/01/2018 12:00:00 AM</td>\n",
              "      <td>04/10/2018 12:00:00 AM</td>\n",
              "      <td>DOHMH</td>\n",
              "      <td>Department of Health and Mental Hygiene</td>\n",
              "      <td>Standing Water</td>\n",
              "      <td>Swimming Pool - Unmaintained</td>\n",
              "      <td>1-2 Family Dwelling</td>\n",
              "      <td>10312.0</td>\n",
              "      <td>45 JEANETTE AVENUE</td>\n",
              "      <td>JEANETTE AVENUE</td>\n",
              "      <td>ANNADALE ROAD</td>\n",
              "      <td>RALPH AVENUE</td>\n",
              "      <td>NaN</td>\n",
              "      <td>NaN</td>\n",
              "      <td>ADDRESS</td>\n",
              "      <td>STATEN ISLAND</td>\n",
              "      <td>NaN</td>\n",
              "      <td>NaN</td>\n",
              "      <td>Closed</td>\n",
              "      <td>05/01/2018 07:02:38 PM</td>\n",
              "      <td>The Department of Health and Mental Hygiene wi...</td>\n",
              "      <td>04/10/2018 12:00:00 AM</td>\n",
              "      <td>03 STATEN ISLAND</td>\n",
              "      <td>5.062210e+09</td>\n",
              "      <td>STATEN ISLAND</td>\n",
              "      <td>935,441</td>\n",
              "      <td>137,203</td>\n",
              "      <td>PHONE</td>\n",
              "      <td>Unspecified</td>\n",
              "      <td>STATEN ISLAND</td>\n",
              "      <td>NaN</td>\n",
              "      <td>NaN</td>\n",
              "      <td>NaN</td>\n",
              "      <td>NaN</td>\n",
              "      <td>NaN</td>\n",
              "      <td>NaN</td>\n",
              "      <td>NaN</td>\n",
              "      <td>40.543132</td>\n",
              "      <td>-74.175614</td>\n",
              "      <td>(40.54313178878882, -74.17561421997694)</td>\n",
              "    </tr>\n",
              "    <tr>\n",
              "      <th>1</th>\n",
              "      <td>38837043</td>\n",
              "      <td>04/01/2018 12:00:00 AM</td>\n",
              "      <td>03/12/2018 12:00:00 AM</td>\n",
              "      <td>DOHMH</td>\n",
              "      <td>Department of Health and Mental Hygiene</td>\n",
              "      <td>Rodent</td>\n",
              "      <td>Condition Attracting Rodents</td>\n",
              "      <td>3+ Family Apt. Building</td>\n",
              "      <td>11217.0</td>\n",
              "      <td>399 ATLANTIC AVENUE</td>\n",
              "      <td>ATLANTIC AVENUE</td>\n",
              "      <td>NaN</td>\n",
              "      <td>NaN</td>\n",
              "      <td>NaN</td>\n",
              "      <td>NaN</td>\n",
              "      <td>LATLONG</td>\n",
              "      <td>BROOKLYN</td>\n",
              "      <td>NaN</td>\n",
              "      <td>NaN</td>\n",
              "      <td>Pending</td>\n",
              "      <td>05/01/2018 10:59:08 AM</td>\n",
              "      <td>The Department of Health and Mental Hygiene wi...</td>\n",
              "      <td>04/01/2018 11:02:27 AM</td>\n",
              "      <td>02 BROOKLYN</td>\n",
              "      <td>NaN</td>\n",
              "      <td>BROOKLYN</td>\n",
              "      <td>988,460</td>\n",
              "      <td>189,634</td>\n",
              "      <td>MOBILE</td>\n",
              "      <td>Unspecified</td>\n",
              "      <td>BROOKLYN</td>\n",
              "      <td>NaN</td>\n",
              "      <td>NaN</td>\n",
              "      <td>NaN</td>\n",
              "      <td>NaN</td>\n",
              "      <td>NaN</td>\n",
              "      <td>NaN</td>\n",
              "      <td>NaN</td>\n",
              "      <td>40.687177</td>\n",
              "      <td>-73.984820</td>\n",
              "      <td>(40.687177293988285, -73.98481975668435)</td>\n",
              "    </tr>\n",
              "    <tr>\n",
              "      <th>2</th>\n",
              "      <td>38836824</td>\n",
              "      <td>04/01/2018 12:00:00 AM</td>\n",
              "      <td>04/09/2018 12:00:00 AM</td>\n",
              "      <td>DOHMH</td>\n",
              "      <td>Department of Health and Mental Hygiene</td>\n",
              "      <td>Rodent</td>\n",
              "      <td>Rat Sighting</td>\n",
              "      <td>Commercial Building</td>\n",
              "      <td>11224.0</td>\n",
              "      <td>2980 WEST   29 STREET</td>\n",
              "      <td>WEST   29 STREET</td>\n",
              "      <td>MERMAID AVENUE</td>\n",
              "      <td>SURF AVENUE</td>\n",
              "      <td>NaN</td>\n",
              "      <td>NaN</td>\n",
              "      <td>ADDRESS</td>\n",
              "      <td>BROOKLYN</td>\n",
              "      <td>NaN</td>\n",
              "      <td>NaN</td>\n",
              "      <td>Closed</td>\n",
              "      <td>05/01/2018 10:15:54 AM</td>\n",
              "      <td>The Department of Health and Mental Hygiene wi...</td>\n",
              "      <td>04/09/2018 12:00:00 AM</td>\n",
              "      <td>13 BROOKLYN</td>\n",
              "      <td>3.070510e+09</td>\n",
              "      <td>BROOKLYN</td>\n",
              "      <td>985,592</td>\n",
              "      <td>148,491</td>\n",
              "      <td>PHONE</td>\n",
              "      <td>Unspecified</td>\n",
              "      <td>BROOKLYN</td>\n",
              "      <td>NaN</td>\n",
              "      <td>NaN</td>\n",
              "      <td>NaN</td>\n",
              "      <td>NaN</td>\n",
              "      <td>NaN</td>\n",
              "      <td>NaN</td>\n",
              "      <td>NaN</td>\n",
              "      <td>40.574249</td>\n",
              "      <td>-73.995169</td>\n",
              "      <td>(40.57424936932171, -73.99516925322999)</td>\n",
              "    </tr>\n",
              "    <tr>\n",
              "      <th>3</th>\n",
              "      <td>38836823</td>\n",
              "      <td>04/01/2018 12:00:00 AM</td>\n",
              "      <td>03/20/2018 12:00:00 AM</td>\n",
              "      <td>DOHMH</td>\n",
              "      <td>Department of Health and Mental Hygiene</td>\n",
              "      <td>Rodent</td>\n",
              "      <td>Rat Sighting</td>\n",
              "      <td>3+ Family Apt. Building</td>\n",
              "      <td>10025.0</td>\n",
              "      <td>360 CENTRAL PARK WEST</td>\n",
              "      <td>CENTRAL PARK WEST</td>\n",
              "      <td>WEST 95 STREET</td>\n",
              "      <td>WEST 96 STREET</td>\n",
              "      <td>NaN</td>\n",
              "      <td>NaN</td>\n",
              "      <td>ADDRESS</td>\n",
              "      <td>NEW YORK</td>\n",
              "      <td>NaN</td>\n",
              "      <td>NaN</td>\n",
              "      <td>Pending</td>\n",
              "      <td>05/01/2018 08:06:26 PM</td>\n",
              "      <td>The Department of Health and Mental Hygiene wi...</td>\n",
              "      <td>04/01/2018 08:09:23 PM</td>\n",
              "      <td>07 MANHATTAN</td>\n",
              "      <td>1.012098e+09</td>\n",
              "      <td>MANHATTAN</td>\n",
              "      <td>994,006</td>\n",
              "      <td>227,668</td>\n",
              "      <td>ONLINE</td>\n",
              "      <td>Unspecified</td>\n",
              "      <td>MANHATTAN</td>\n",
              "      <td>NaN</td>\n",
              "      <td>NaN</td>\n",
              "      <td>NaN</td>\n",
              "      <td>NaN</td>\n",
              "      <td>NaN</td>\n",
              "      <td>NaN</td>\n",
              "      <td>NaN</td>\n",
              "      <td>40.791567</td>\n",
              "      <td>-73.964767</td>\n",
              "      <td>(40.79156678627206, -73.9647670611818)</td>\n",
              "    </tr>\n",
              "    <tr>\n",
              "      <th>4</th>\n",
              "      <td>38836788</td>\n",
              "      <td>04/01/2018 12:00:00 AM</td>\n",
              "      <td>04/04/2018 06:19:08 PM</td>\n",
              "      <td>DOHMH</td>\n",
              "      <td>Department of Health and Mental Hygiene</td>\n",
              "      <td>Unsanitary Animal Pvt Property</td>\n",
              "      <td>Dog</td>\n",
              "      <td>3+ Family Apartment Building</td>\n",
              "      <td>10454.0</td>\n",
              "      <td>590 EAST  138 STREET</td>\n",
              "      <td>EAST  138 STREET</td>\n",
              "      <td>ST ANNS AVENUE</td>\n",
              "      <td>CYPRESS AVENUE</td>\n",
              "      <td>NaN</td>\n",
              "      <td>NaN</td>\n",
              "      <td>ADDRESS</td>\n",
              "      <td>BRONX</td>\n",
              "      <td>NaN</td>\n",
              "      <td>NaN</td>\n",
              "      <td>Closed</td>\n",
              "      <td>05/01/2018 03:10:20 PM</td>\n",
              "      <td>The Department of Health and Mental Hygiene wi...</td>\n",
              "      <td>04/04/2018 06:19:08 PM</td>\n",
              "      <td>01 BRONX</td>\n",
              "      <td>2.025500e+09</td>\n",
              "      <td>BRONX</td>\n",
              "      <td>1,007,381</td>\n",
              "      <td>233,073</td>\n",
              "      <td>ONLINE</td>\n",
              "      <td>Unspecified</td>\n",
              "      <td>BRONX</td>\n",
              "      <td>NaN</td>\n",
              "      <td>NaN</td>\n",
              "      <td>NaN</td>\n",
              "      <td>NaN</td>\n",
              "      <td>NaN</td>\n",
              "      <td>NaN</td>\n",
              "      <td>NaN</td>\n",
              "      <td>40.806377</td>\n",
              "      <td>-73.916446</td>\n",
              "      <td>(40.806377143967396, -73.91644582317069)</td>\n",
              "    </tr>\n",
              "  </tbody>\n",
              "</table>\n",
              "</div>"
            ],
            "text/plain": [
              "   Unique Key  ...                                  Location\n",
              "0    38837194  ...   (40.54313178878882, -74.17561421997694)\n",
              "1    38837043  ...  (40.687177293988285, -73.98481975668435)\n",
              "2    38836824  ...   (40.57424936932171, -73.99516925322999)\n",
              "3    38836823  ...    (40.79156678627206, -73.9647670611818)\n",
              "4    38836788  ...  (40.806377143967396, -73.91644582317069)\n",
              "\n",
              "[5 rows x 41 columns]"
            ]
          },
          "metadata": {
            "tags": []
          },
          "execution_count": 4
        }
      ]
    },
    {
      "cell_type": "code",
      "metadata": {
        "id": "rh-4a29H7UdF",
        "outputId": "182a1a2a-bb76-4bcf-b781-f788927d56d1",
        "colab": {
          "base_uri": "https://localhost:8080/",
          "height": 556
        }
      },
      "source": [
        "df.tail(5)"
      ],
      "execution_count": 5,
      "outputs": [
        {
          "output_type": "execute_result",
          "data": {
            "text/html": [
              "<div>\n",
              "<style scoped>\n",
              "    .dataframe tbody tr th:only-of-type {\n",
              "        vertical-align: middle;\n",
              "    }\n",
              "\n",
              "    .dataframe tbody tr th {\n",
              "        vertical-align: top;\n",
              "    }\n",
              "\n",
              "    .dataframe thead th {\n",
              "        text-align: right;\n",
              "    }\n",
              "</style>\n",
              "<table border=\"1\" class=\"dataframe\">\n",
              "  <thead>\n",
              "    <tr style=\"text-align: right;\">\n",
              "      <th></th>\n",
              "      <th>Unique Key</th>\n",
              "      <th>Created Date</th>\n",
              "      <th>Closed Date</th>\n",
              "      <th>Agency</th>\n",
              "      <th>Agency Name</th>\n",
              "      <th>Complaint Type</th>\n",
              "      <th>Descriptor</th>\n",
              "      <th>Location Type</th>\n",
              "      <th>Incident Zip</th>\n",
              "      <th>Incident Address</th>\n",
              "      <th>Street Name</th>\n",
              "      <th>Cross Street 1</th>\n",
              "      <th>Cross Street 2</th>\n",
              "      <th>Intersection Street 1</th>\n",
              "      <th>Intersection Street 2</th>\n",
              "      <th>Address Type</th>\n",
              "      <th>City</th>\n",
              "      <th>Landmark</th>\n",
              "      <th>Facility Type</th>\n",
              "      <th>Status</th>\n",
              "      <th>Due Date</th>\n",
              "      <th>Resolution Description</th>\n",
              "      <th>Resolution Action Updated Date</th>\n",
              "      <th>Community Board</th>\n",
              "      <th>BBL</th>\n",
              "      <th>Borough</th>\n",
              "      <th>X Coordinate (State Plane)</th>\n",
              "      <th>Y Coordinate (State Plane)</th>\n",
              "      <th>Open Data Channel Type</th>\n",
              "      <th>Park Facility Name</th>\n",
              "      <th>Park Borough</th>\n",
              "      <th>Vehicle Type</th>\n",
              "      <th>Taxi Company Borough</th>\n",
              "      <th>Taxi Pick Up Location</th>\n",
              "      <th>Bridge Highway Name</th>\n",
              "      <th>Bridge Highway Direction</th>\n",
              "      <th>Road Ramp</th>\n",
              "      <th>Bridge Highway Segment</th>\n",
              "      <th>Latitude</th>\n",
              "      <th>Longitude</th>\n",
              "      <th>Location</th>\n",
              "    </tr>\n",
              "  </thead>\n",
              "  <tbody>\n",
              "    <tr>\n",
              "      <th>18357</th>\n",
              "      <td>38849339</td>\n",
              "      <td>04/03/2018 10:21:17 PM</td>\n",
              "      <td>04/04/2018 02:16:36 AM</td>\n",
              "      <td>NYPD</td>\n",
              "      <td>New York City Police Department</td>\n",
              "      <td>Noise - Street/Sidewalk</td>\n",
              "      <td>Loud Talking</td>\n",
              "      <td>Street/Sidewalk</td>\n",
              "      <td>10019.0</td>\n",
              "      <td>778 9 AVENUE</td>\n",
              "      <td>9 AVENUE</td>\n",
              "      <td>WEST 51 STREET</td>\n",
              "      <td>WEST 52 STREET</td>\n",
              "      <td>NaN</td>\n",
              "      <td>NaN</td>\n",
              "      <td>ADDRESS</td>\n",
              "      <td>NEW YORK</td>\n",
              "      <td>NaN</td>\n",
              "      <td>Precinct</td>\n",
              "      <td>Closed</td>\n",
              "      <td>04/04/2018 06:21:17 AM</td>\n",
              "      <td>The Police Department responded to the complai...</td>\n",
              "      <td>04/04/2018 02:16:37 AM</td>\n",
              "      <td>04 MANHATTAN</td>\n",
              "      <td>1.010420e+09</td>\n",
              "      <td>MANHATTAN</td>\n",
              "      <td>987,539</td>\n",
              "      <td>217,838</td>\n",
              "      <td>MOBILE</td>\n",
              "      <td>Unspecified</td>\n",
              "      <td>MANHATTAN</td>\n",
              "      <td>NaN</td>\n",
              "      <td>NaN</td>\n",
              "      <td>NaN</td>\n",
              "      <td>NaN</td>\n",
              "      <td>NaN</td>\n",
              "      <td>NaN</td>\n",
              "      <td>NaN</td>\n",
              "      <td>40.764591</td>\n",
              "      <td>-73.988127</td>\n",
              "      <td>(40.764590802150515, -73.98812687601041)</td>\n",
              "    </tr>\n",
              "    <tr>\n",
              "      <th>18358</th>\n",
              "      <td>38845003</td>\n",
              "      <td>04/03/2018 10:21:58 PM</td>\n",
              "      <td>04/04/2018 05:53:11 AM</td>\n",
              "      <td>NYPD</td>\n",
              "      <td>New York City Police Department</td>\n",
              "      <td>Blocked Driveway</td>\n",
              "      <td>No Access</td>\n",
              "      <td>Street/Sidewalk</td>\n",
              "      <td>10467.0</td>\n",
              "      <td>844 EAST 221 STREET</td>\n",
              "      <td>EAST 221 STREET</td>\n",
              "      <td>BARNES AVENUE</td>\n",
              "      <td>BRONXWOOD AVENUE</td>\n",
              "      <td>NaN</td>\n",
              "      <td>NaN</td>\n",
              "      <td>ADDRESS</td>\n",
              "      <td>BRONX</td>\n",
              "      <td>NaN</td>\n",
              "      <td>Precinct</td>\n",
              "      <td>Closed</td>\n",
              "      <td>04/04/2018 06:21:58 AM</td>\n",
              "      <td>The Police Department responded and upon arriv...</td>\n",
              "      <td>04/04/2018 05:53:11 AM</td>\n",
              "      <td>12 BRONX</td>\n",
              "      <td>2.046790e+09</td>\n",
              "      <td>BRONX</td>\n",
              "      <td>1,023,625</td>\n",
              "      <td>261,217</td>\n",
              "      <td>PHONE</td>\n",
              "      <td>Unspecified</td>\n",
              "      <td>BRONX</td>\n",
              "      <td>NaN</td>\n",
              "      <td>NaN</td>\n",
              "      <td>NaN</td>\n",
              "      <td>NaN</td>\n",
              "      <td>NaN</td>\n",
              "      <td>NaN</td>\n",
              "      <td>NaN</td>\n",
              "      <td>40.883567</td>\n",
              "      <td>-73.857604</td>\n",
              "      <td>(40.88356659658488, -73.8576038026292)</td>\n",
              "    </tr>\n",
              "    <tr>\n",
              "      <th>18359</th>\n",
              "      <td>38848606</td>\n",
              "      <td>04/03/2018 10:22:01 PM</td>\n",
              "      <td>NaN</td>\n",
              "      <td>DPR</td>\n",
              "      <td>Department of Parks and Recreation</td>\n",
              "      <td>New Tree Request</td>\n",
              "      <td>For One Address</td>\n",
              "      <td>Street</td>\n",
              "      <td>11694.0</td>\n",
              "      <td>118-07 ROCKAWAY BEACH BOULEVARD</td>\n",
              "      <td>ROCKAWAY BEACH BOULEVARD</td>\n",
              "      <td>BEACH 118 STREET</td>\n",
              "      <td>BEACH 119 STREET</td>\n",
              "      <td>NaN</td>\n",
              "      <td>NaN</td>\n",
              "      <td>ADDRESS</td>\n",
              "      <td>ROCKAWAY PARK</td>\n",
              "      <td>NaN</td>\n",
              "      <td>NaN</td>\n",
              "      <td>Open</td>\n",
              "      <td>03/23/2020 10:22:01 PM</td>\n",
              "      <td>The Department of Parks and Recreation will re...</td>\n",
              "      <td>NaN</td>\n",
              "      <td>14 QUEENS</td>\n",
              "      <td>4.162280e+09</td>\n",
              "      <td>QUEENS</td>\n",
              "      <td>1,028,950</td>\n",
              "      <td>150,327</td>\n",
              "      <td>OTHER</td>\n",
              "      <td>Unspecified</td>\n",
              "      <td>QUEENS</td>\n",
              "      <td>NaN</td>\n",
              "      <td>NaN</td>\n",
              "      <td>NaN</td>\n",
              "      <td>NaN</td>\n",
              "      <td>NaN</td>\n",
              "      <td>NaN</td>\n",
              "      <td>NaN</td>\n",
              "      <td>40.579176</td>\n",
              "      <td>-73.839083</td>\n",
              "      <td>(40.57917623613607, -73.83908313648944)</td>\n",
              "    </tr>\n",
              "    <tr>\n",
              "      <th>18360</th>\n",
              "      <td>38851228</td>\n",
              "      <td>04/03/2018 10:22:13 PM</td>\n",
              "      <td>04/03/2018 10:53:52 PM</td>\n",
              "      <td>NYPD</td>\n",
              "      <td>New York City Police Department</td>\n",
              "      <td>Noise - Residential</td>\n",
              "      <td>Banging/Pounding</td>\n",
              "      <td>Residential Building/House</td>\n",
              "      <td>10033.0</td>\n",
              "      <td>612 WEST 178 STREET</td>\n",
              "      <td>WEST 178 STREET</td>\n",
              "      <td>ST NICHOLAS AVENUE</td>\n",
              "      <td>WADSWORTH AVENUE</td>\n",
              "      <td>NaN</td>\n",
              "      <td>NaN</td>\n",
              "      <td>ADDRESS</td>\n",
              "      <td>NEW YORK</td>\n",
              "      <td>NaN</td>\n",
              "      <td>Precinct</td>\n",
              "      <td>Closed</td>\n",
              "      <td>04/04/2018 06:22:13 AM</td>\n",
              "      <td>The Police Department responded to the complai...</td>\n",
              "      <td>04/03/2018 10:53:52 PM</td>\n",
              "      <td>12 MANHATTAN</td>\n",
              "      <td>1.021440e+09</td>\n",
              "      <td>MANHATTAN</td>\n",
              "      <td>1,002,054</td>\n",
              "      <td>248,068</td>\n",
              "      <td>PHONE</td>\n",
              "      <td>Unspecified</td>\n",
              "      <td>MANHATTAN</td>\n",
              "      <td>NaN</td>\n",
              "      <td>NaN</td>\n",
              "      <td>NaN</td>\n",
              "      <td>NaN</td>\n",
              "      <td>NaN</td>\n",
              "      <td>NaN</td>\n",
              "      <td>NaN</td>\n",
              "      <td>40.847546</td>\n",
              "      <td>-73.935648</td>\n",
              "      <td>(40.84754647226867, -73.93564830036111)</td>\n",
              "    </tr>\n",
              "    <tr>\n",
              "      <th>18361</th>\n",
              "      <td>38851563</td>\n",
              "      <td>04/03/2018 10:22:44 PM</td>\n",
              "      <td>04/04/2018 02:24:41 AM</td>\n",
              "      <td>NYPD</td>\n",
              "      <td>New York City Police Department</td>\n",
              "      <td>Noise - Residential</td>\n",
              "      <td>NaN</td>\n",
              "      <td>NaN</td>\n",
              "      <td>NaN</td>\n",
              "      <td>NaN</td>\n",
              "      <td>NaN</td>\n",
              "      <td>NaN</td>\n",
              "      <td>NaN</td>\n",
              "      <td>NaN</td>\n",
              "      <td>NaN</td>\n",
              "      <td>NaN</td>\n",
              "      <td>NaN</td>\n",
              "      <td>NaN</td>\n",
              "      <td>NaN</td>\n",
              "      <td>NaN</td>\n",
              "      <td>NaN</td>\n",
              "      <td>NaN</td>\n",
              "      <td>NaN</td>\n",
              "      <td>NaN</td>\n",
              "      <td>NaN</td>\n",
              "      <td>NaN</td>\n",
              "      <td>NaN</td>\n",
              "      <td>NaN</td>\n",
              "      <td>NaN</td>\n",
              "      <td>NaN</td>\n",
              "      <td>NaN</td>\n",
              "      <td>NaN</td>\n",
              "      <td>NaN</td>\n",
              "      <td>NaN</td>\n",
              "      <td>NaN</td>\n",
              "      <td>NaN</td>\n",
              "      <td>NaN</td>\n",
              "      <td>NaN</td>\n",
              "      <td>NaN</td>\n",
              "      <td>NaN</td>\n",
              "      <td>NaN</td>\n",
              "    </tr>\n",
              "  </tbody>\n",
              "</table>\n",
              "</div>"
            ],
            "text/plain": [
              "       Unique Key  ...                                  Location\n",
              "18357    38849339  ...  (40.764590802150515, -73.98812687601041)\n",
              "18358    38845003  ...    (40.88356659658488, -73.8576038026292)\n",
              "18359    38848606  ...   (40.57917623613607, -73.83908313648944)\n",
              "18360    38851228  ...   (40.84754647226867, -73.93564830036111)\n",
              "18361    38851563  ...                                       NaN\n",
              "\n",
              "[5 rows x 41 columns]"
            ]
          },
          "metadata": {
            "tags": []
          },
          "execution_count": 5
        }
      ]
    },
    {
      "cell_type": "code",
      "metadata": {
        "id": "dl94S--b7arc",
        "outputId": "882d641d-46a8-4ac8-9eee-4e1cb923bf8b",
        "colab": {
          "base_uri": "https://localhost:8080/"
        }
      },
      "source": [
        "df.info()"
      ],
      "execution_count": 7,
      "outputs": [
        {
          "output_type": "stream",
          "text": [
            "<class 'pandas.core.frame.DataFrame'>\n",
            "RangeIndex: 18362 entries, 0 to 18361\n",
            "Data columns (total 41 columns):\n",
            " #   Column                          Non-Null Count  Dtype  \n",
            "---  ------                          --------------  -----  \n",
            " 0   Unique Key                      18362 non-null  int64  \n",
            " 1   Created Date                    18362 non-null  object \n",
            " 2   Closed Date                     17569 non-null  object \n",
            " 3   Agency                          18362 non-null  object \n",
            " 4   Agency Name                     18362 non-null  object \n",
            " 5   Complaint Type                  18362 non-null  object \n",
            " 6   Descriptor                      18169 non-null  object \n",
            " 7   Location Type                   14695 non-null  object \n",
            " 8   Incident Zip                    17668 non-null  float64\n",
            " 9   Incident Address                15475 non-null  object \n",
            " 10  Street Name                     15475 non-null  object \n",
            " 11  Cross Street 1                  10083 non-null  object \n",
            " 12  Cross Street 2                  10003 non-null  object \n",
            " 13  Intersection Street 1           2131 non-null   object \n",
            " 14  Intersection Street 2           2124 non-null   object \n",
            " 15  Address Type                    17984 non-null  object \n",
            " 16  City                            17667 non-null  object \n",
            " 17  Landmark                        3 non-null      object \n",
            " 18  Facility Type                   5720 non-null   object \n",
            " 19  Status                          18361 non-null  object \n",
            " 20  Due Date                        7732 non-null   object \n",
            " 21  Resolution Description          17071 non-null  object \n",
            " 22  Resolution Action Updated Date  18000 non-null  object \n",
            " 23  Community Board                 18361 non-null  object \n",
            " 24  BBL                             14914 non-null  float64\n",
            " 25  Borough                         18361 non-null  object \n",
            " 26  X Coordinate (State Plane)      17176 non-null  object \n",
            " 27  Y Coordinate (State Plane)      17176 non-null  object \n",
            " 28  Open Data Channel Type          18361 non-null  object \n",
            " 29  Park Facility Name              18361 non-null  object \n",
            " 30  Park Borough                    18361 non-null  object \n",
            " 31  Vehicle Type                    0 non-null      float64\n",
            " 32  Taxi Company Borough            13 non-null     object \n",
            " 33  Taxi Pick Up Location           70 non-null     object \n",
            " 34  Bridge Highway Name             38 non-null     object \n",
            " 35  Bridge Highway Direction        38 non-null     object \n",
            " 36  Road Ramp                       38 non-null     object \n",
            " 37  Bridge Highway Segment          52 non-null     object \n",
            " 38  Latitude                        17176 non-null  float64\n",
            " 39  Longitude                       17176 non-null  float64\n",
            " 40  Location                        17176 non-null  object \n",
            "dtypes: float64(5), int64(1), object(35)\n",
            "memory usage: 5.7+ MB\n"
          ],
          "name": "stdout"
        }
      ]
    },
    {
      "cell_type": "code",
      "metadata": {
        "id": "_iPnYMCJ73Ch",
        "outputId": "11fdc20c-bb8b-43d6-81de-a63c43c93473",
        "colab": {
          "base_uri": "https://localhost:8080/"
        }
      },
      "source": [
        "df.shape"
      ],
      "execution_count": 9,
      "outputs": [
        {
          "output_type": "execute_result",
          "data": {
            "text/plain": [
              "(18362, 41)"
            ]
          },
          "metadata": {
            "tags": []
          },
          "execution_count": 9
        }
      ]
    },
    {
      "cell_type": "markdown",
      "metadata": {
        "id": "uGvidB6f79IP"
      },
      "source": [
        "# **Investigasi Data**"
      ]
    },
    {
      "cell_type": "markdown",
      "metadata": {
        "id": "Czohprma8jpL"
      },
      "source": [
        "Kolom dataset yang akan kita gunakan untuk analisa data meliputi :\n",
        "\n",
        "\n",
        "1.   Created Date, untuk menentukan hari suatu pengajuan di ajukan\n",
        "2.   Borough, untuk menentukan dari bagian kota mana keluhan tersebut berasal\n",
        "\n",
        "1.   Complaint Type, untuk menentukan kategori keluhan\n",
        "\n",
        "Disini kita akan menggunakan fungsi **unique() dan value_counts()** berguna untuk menyelidiki kolom dengan nilai string atau tanggal, serta bisa gunakan fungsi **describe** untuk menyelidiki kolom dengan nilai numerik dan memeriksa data outlier\n",
        "\n",
        "\n",
        "\n"
      ]
    },
    {
      "cell_type": "code",
      "metadata": {
        "id": "DwTBujQw-LbC",
        "outputId": "ebbb9e98-058e-474e-9dd5-7db00ec55453",
        "colab": {
          "base_uri": "https://localhost:8080/"
        }
      },
      "source": [
        "df['Complaint Type'].value_counts()[:25]"
      ],
      "execution_count": 12,
      "outputs": [
        {
          "output_type": "execute_result",
          "data": {
            "text/plain": [
              "HEAT/HOT WATER                         1940\n",
              "Noise - Residential                    1779\n",
              "Request Large Bulky Item Collection    1199\n",
              "Blocked Driveway                        966\n",
              "Illegal Parking                         936\n",
              "Street Condition                        835\n",
              "Street Light Condition                  681\n",
              "UNSANITARY CONDITION                    555\n",
              "PAINT/PLASTER                           421\n",
              "Noise                                   413\n",
              "Sewer                                   344\n",
              "PLUMBING                                335\n",
              "Water System                            323\n",
              "Missed Collection (All Materials)       307\n",
              "Sanitation Condition                    302\n",
              "Noise - Commercial                      296\n",
              "Derelict Vehicles                       273\n",
              "WATER LEAK                              268\n",
              "Noise - Street/Sidewalk                 261\n",
              "Dirty Conditions                        255\n",
              "Sidewalk Condition                      249\n",
              "DOOR/WINDOW                             249\n",
              "Derelict Vehicle                        248\n",
              "Rodent                                  245\n",
              "Traffic Signal Condition                233\n",
              "Name: Complaint Type, dtype: int64"
            ]
          },
          "metadata": {
            "tags": []
          },
          "execution_count": 12
        }
      ]
    },
    {
      "cell_type": "code",
      "metadata": {
        "id": "HM1sTS9p-sIH",
        "outputId": "294f54fa-d750-4580-8ac5-b24a707bed7e",
        "colab": {
          "base_uri": "https://localhost:8080/"
        }
      },
      "source": [
        "df['Borough'].value_counts()"
      ],
      "execution_count": 13,
      "outputs": [
        {
          "output_type": "execute_result",
          "data": {
            "text/plain": [
              "BROOKLYN         5703\n",
              "QUEENS           4706\n",
              "MANHATTAN        3441\n",
              "BRONX            3171\n",
              "STATEN ISLAND    1034\n",
              "Unspecified       306\n",
              "Name: Borough, dtype: int64"
            ]
          },
          "metadata": {
            "tags": []
          },
          "execution_count": 13
        }
      ]
    },
    {
      "cell_type": "code",
      "metadata": {
        "id": "FAOmVRm-7Xoa",
        "outputId": "80fb8969-887d-475e-b2ed-3b53985a83f3",
        "colab": {
          "base_uri": "https://localhost:8080/",
          "height": 300
        }
      },
      "source": [
        "df.describe()"
      ],
      "execution_count": 6,
      "outputs": [
        {
          "output_type": "execute_result",
          "data": {
            "text/html": [
              "<div>\n",
              "<style scoped>\n",
              "    .dataframe tbody tr th:only-of-type {\n",
              "        vertical-align: middle;\n",
              "    }\n",
              "\n",
              "    .dataframe tbody tr th {\n",
              "        vertical-align: top;\n",
              "    }\n",
              "\n",
              "    .dataframe thead th {\n",
              "        text-align: right;\n",
              "    }\n",
              "</style>\n",
              "<table border=\"1\" class=\"dataframe\">\n",
              "  <thead>\n",
              "    <tr style=\"text-align: right;\">\n",
              "      <th></th>\n",
              "      <th>Unique Key</th>\n",
              "      <th>Incident Zip</th>\n",
              "      <th>BBL</th>\n",
              "      <th>Vehicle Type</th>\n",
              "      <th>Latitude</th>\n",
              "      <th>Longitude</th>\n",
              "    </tr>\n",
              "  </thead>\n",
              "  <tbody>\n",
              "    <tr>\n",
              "      <th>count</th>\n",
              "      <td>1.836200e+04</td>\n",
              "      <td>17668.000000</td>\n",
              "      <td>1.491400e+04</td>\n",
              "      <td>0.0</td>\n",
              "      <td>17176.000000</td>\n",
              "      <td>17176.000000</td>\n",
              "    </tr>\n",
              "    <tr>\n",
              "      <th>mean</th>\n",
              "      <td>3.884290e+07</td>\n",
              "      <td>10849.432986</td>\n",
              "      <td>2.823129e+09</td>\n",
              "      <td>NaN</td>\n",
              "      <td>40.727381</td>\n",
              "      <td>-73.923060</td>\n",
              "    </tr>\n",
              "    <tr>\n",
              "      <th>std</th>\n",
              "      <td>6.892413e+03</td>\n",
              "      <td>678.854913</td>\n",
              "      <td>1.178018e+09</td>\n",
              "      <td>NaN</td>\n",
              "      <td>0.086322</td>\n",
              "      <td>0.085848</td>\n",
              "    </tr>\n",
              "    <tr>\n",
              "      <th>min</th>\n",
              "      <td>3.882586e+07</td>\n",
              "      <td>0.000000</td>\n",
              "      <td>1.000058e+09</td>\n",
              "      <td>NaN</td>\n",
              "      <td>40.500568</td>\n",
              "      <td>-74.252116</td>\n",
              "    </tr>\n",
              "    <tr>\n",
              "      <th>25%</th>\n",
              "      <td>3.883708e+07</td>\n",
              "      <td>10451.000000</td>\n",
              "      <td>2.029600e+09</td>\n",
              "      <td>NaN</td>\n",
              "      <td>40.663504</td>\n",
              "      <td>-73.966220</td>\n",
              "    </tr>\n",
              "    <tr>\n",
              "      <th>50%</th>\n",
              "      <td>3.884290e+07</td>\n",
              "      <td>11207.000000</td>\n",
              "      <td>3.032470e+09</td>\n",
              "      <td>NaN</td>\n",
              "      <td>40.718457</td>\n",
              "      <td>-73.925237</td>\n",
              "    </tr>\n",
              "    <tr>\n",
              "      <th>75%</th>\n",
              "      <td>3.884856e+07</td>\n",
              "      <td>11237.000000</td>\n",
              "      <td>4.017455e+09</td>\n",
              "      <td>NaN</td>\n",
              "      <td>40.799599</td>\n",
              "      <td>-73.873127</td>\n",
              "    </tr>\n",
              "    <tr>\n",
              "      <th>max</th>\n",
              "      <td>3.892277e+07</td>\n",
              "      <td>60179.000000</td>\n",
              "      <td>5.080480e+09</td>\n",
              "      <td>NaN</td>\n",
              "      <td>40.912468</td>\n",
              "      <td>-73.701496</td>\n",
              "    </tr>\n",
              "  </tbody>\n",
              "</table>\n",
              "</div>"
            ],
            "text/plain": [
              "         Unique Key  Incident Zip  ...      Latitude     Longitude\n",
              "count  1.836200e+04  17668.000000  ...  17176.000000  17176.000000\n",
              "mean   3.884290e+07  10849.432986  ...     40.727381    -73.923060\n",
              "std    6.892413e+03    678.854913  ...      0.086322      0.085848\n",
              "min    3.882586e+07      0.000000  ...     40.500568    -74.252116\n",
              "25%    3.883708e+07  10451.000000  ...     40.663504    -73.966220\n",
              "50%    3.884290e+07  11207.000000  ...     40.718457    -73.925237\n",
              "75%    3.884856e+07  11237.000000  ...     40.799599    -73.873127\n",
              "max    3.892277e+07  60179.000000  ...     40.912468    -73.701496\n",
              "\n",
              "[8 rows x 6 columns]"
            ]
          },
          "metadata": {
            "tags": []
          },
          "execution_count": 6
        }
      ]
    },
    {
      "cell_type": "markdown",
      "metadata": {
        "id": "ZLoy7SGc-9IW"
      },
      "source": [
        "Dari pengecekan singkat diatas, dapat diketahui :\n",
        "\n",
        "1. Ada banyak jenis keluhan berbeda yang terkait dengan kebisingan seperti 'Noise - Residential', 'Noise', dll.\n",
        "2. Perlu dilakukan pengelompokkan terkait jenis komplain yang ada untuk mendapatkan gambaran yang akurat tentang jumlah keseluruhan keluhan kebisingan\n",
        "3. Ada beberapa keluhan yang dicatat ke wilayah 'Unspecified', tetapi jumlah total catatan rendah (~ 4.000 dari total ~ 200.000). Karena nantinya akan dikelompokkan berdasarkan wilayah data Unspecified ini tetap akan disimpan\n",
        "4. Tipe data 'Created Date' saat ini adalah objek string, yang harus diubah menjadi objek datetime untuk memungkinkan kita memfilter dengan mudah pada hari apa pun dalam seminggu, bulan, dll.\n",
        "\n",
        "\n",
        "Jadi yang perlu dilakukan yaitu :\n",
        "\n",
        "Tentukan ulang tipe data 'Tanggal Dibuat' untuk memfilter hari dalam seminggu (kita akan mencoba cek keluhan apa yang paling populer pada hari Minggu).\n",
        "\n",
        "Tambahkan kolom baru 'is_noise' berdasarkan 'Complaint Type' untuk menangkap keluhan terkait kebisingan serupa.\n",
        "\n",
        "\n",
        "# Lakukan Pembersihan Data\n",
        "\n",
        "1. Tentukan ulang jenis data 'Created Date' untuk memfilter hari dalam seminggu (keluhan apa yang paling populer pada hari Minggu) menggunakan fungsi **to_datetime()**"
      ]
    },
    {
      "cell_type": "code",
      "metadata": {
        "id": "IQXP80hLDgAv"
      },
      "source": [
        "df['Created Date'] = pd.to_datetime(df['Created Date'])"
      ],
      "execution_count": 14,
      "outputs": []
    },
    {
      "cell_type": "code",
      "metadata": {
        "id": "_87h-yS1Du0e",
        "outputId": "560bc0ed-ac67-4e62-f2a6-09462ab952d1",
        "colab": {
          "base_uri": "https://localhost:8080/"
        }
      },
      "source": [
        "df.info()"
      ],
      "execution_count": 15,
      "outputs": [
        {
          "output_type": "stream",
          "text": [
            "<class 'pandas.core.frame.DataFrame'>\n",
            "RangeIndex: 18362 entries, 0 to 18361\n",
            "Data columns (total 41 columns):\n",
            " #   Column                          Non-Null Count  Dtype         \n",
            "---  ------                          --------------  -----         \n",
            " 0   Unique Key                      18362 non-null  int64         \n",
            " 1   Created Date                    18362 non-null  datetime64[ns]\n",
            " 2   Closed Date                     17569 non-null  object        \n",
            " 3   Agency                          18362 non-null  object        \n",
            " 4   Agency Name                     18362 non-null  object        \n",
            " 5   Complaint Type                  18362 non-null  object        \n",
            " 6   Descriptor                      18169 non-null  object        \n",
            " 7   Location Type                   14695 non-null  object        \n",
            " 8   Incident Zip                    17668 non-null  float64       \n",
            " 9   Incident Address                15475 non-null  object        \n",
            " 10  Street Name                     15475 non-null  object        \n",
            " 11  Cross Street 1                  10083 non-null  object        \n",
            " 12  Cross Street 2                  10003 non-null  object        \n",
            " 13  Intersection Street 1           2131 non-null   object        \n",
            " 14  Intersection Street 2           2124 non-null   object        \n",
            " 15  Address Type                    17984 non-null  object        \n",
            " 16  City                            17667 non-null  object        \n",
            " 17  Landmark                        3 non-null      object        \n",
            " 18  Facility Type                   5720 non-null   object        \n",
            " 19  Status                          18361 non-null  object        \n",
            " 20  Due Date                        7732 non-null   object        \n",
            " 21  Resolution Description          17071 non-null  object        \n",
            " 22  Resolution Action Updated Date  18000 non-null  object        \n",
            " 23  Community Board                 18361 non-null  object        \n",
            " 24  BBL                             14914 non-null  float64       \n",
            " 25  Borough                         18361 non-null  object        \n",
            " 26  X Coordinate (State Plane)      17176 non-null  object        \n",
            " 27  Y Coordinate (State Plane)      17176 non-null  object        \n",
            " 28  Open Data Channel Type          18361 non-null  object        \n",
            " 29  Park Facility Name              18361 non-null  object        \n",
            " 30  Park Borough                    18361 non-null  object        \n",
            " 31  Vehicle Type                    0 non-null      float64       \n",
            " 32  Taxi Company Borough            13 non-null     object        \n",
            " 33  Taxi Pick Up Location           70 non-null     object        \n",
            " 34  Bridge Highway Name             38 non-null     object        \n",
            " 35  Bridge Highway Direction        38 non-null     object        \n",
            " 36  Road Ramp                       38 non-null     object        \n",
            " 37  Bridge Highway Segment          52 non-null     object        \n",
            " 38  Latitude                        17176 non-null  float64       \n",
            " 39  Longitude                       17176 non-null  float64       \n",
            " 40  Location                        17176 non-null  object        \n",
            "dtypes: datetime64[ns](1), float64(5), int64(1), object(34)\n",
            "memory usage: 5.7+ MB\n"
          ],
          "name": "stdout"
        }
      ]
    },
    {
      "cell_type": "markdown",
      "metadata": {
        "id": "KGFg-UGZEScX"
      },
      "source": [
        "2. Tambahkan kolom baru 'is_noise' berdasarkan 'Complaint Type' untuk menangkap keluhan terkait kebisingan serupa seperti 'Noise' dan 'Noise - Residential' dengan menggunakan fungsi str.contains"
      ]
    },
    {
      "cell_type": "code",
      "metadata": {
        "id": "dCrIP2JyDyC3",
        "outputId": "483e56db-d2bb-4e38-b684-3d5c988444b2",
        "colab": {
          "base_uri": "https://localhost:8080/"
        }
      },
      "source": [
        "df['is_noise'] = df['Complaint Type'].str.contains('Noise')\n",
        "\n",
        "df['is_noise']"
      ],
      "execution_count": 18,
      "outputs": [
        {
          "output_type": "execute_result",
          "data": {
            "text/plain": [
              "0        False\n",
              "1        False\n",
              "2        False\n",
              "3        False\n",
              "4        False\n",
              "         ...  \n",
              "18357     True\n",
              "18358    False\n",
              "18359    False\n",
              "18360     True\n",
              "18361     True\n",
              "Name: is_noise, Length: 18362, dtype: bool"
            ]
          },
          "metadata": {
            "tags": []
          },
          "execution_count": 18
        }
      ]
    },
    {
      "cell_type": "code",
      "metadata": {
        "id": "5hLHYiDgFCAu",
        "outputId": "82e40a4f-a00b-4921-98c3-9dc98756531f",
        "colab": {
          "base_uri": "https://localhost:8080/"
        }
      },
      "source": [
        "df.info()"
      ],
      "execution_count": 17,
      "outputs": [
        {
          "output_type": "stream",
          "text": [
            "<class 'pandas.core.frame.DataFrame'>\n",
            "RangeIndex: 18362 entries, 0 to 18361\n",
            "Data columns (total 42 columns):\n",
            " #   Column                          Non-Null Count  Dtype         \n",
            "---  ------                          --------------  -----         \n",
            " 0   Unique Key                      18362 non-null  int64         \n",
            " 1   Created Date                    18362 non-null  datetime64[ns]\n",
            " 2   Closed Date                     17569 non-null  object        \n",
            " 3   Agency                          18362 non-null  object        \n",
            " 4   Agency Name                     18362 non-null  object        \n",
            " 5   Complaint Type                  18362 non-null  object        \n",
            " 6   Descriptor                      18169 non-null  object        \n",
            " 7   Location Type                   14695 non-null  object        \n",
            " 8   Incident Zip                    17668 non-null  float64       \n",
            " 9   Incident Address                15475 non-null  object        \n",
            " 10  Street Name                     15475 non-null  object        \n",
            " 11  Cross Street 1                  10083 non-null  object        \n",
            " 12  Cross Street 2                  10003 non-null  object        \n",
            " 13  Intersection Street 1           2131 non-null   object        \n",
            " 14  Intersection Street 2           2124 non-null   object        \n",
            " 15  Address Type                    17984 non-null  object        \n",
            " 16  City                            17667 non-null  object        \n",
            " 17  Landmark                        3 non-null      object        \n",
            " 18  Facility Type                   5720 non-null   object        \n",
            " 19  Status                          18361 non-null  object        \n",
            " 20  Due Date                        7732 non-null   object        \n",
            " 21  Resolution Description          17071 non-null  object        \n",
            " 22  Resolution Action Updated Date  18000 non-null  object        \n",
            " 23  Community Board                 18361 non-null  object        \n",
            " 24  BBL                             14914 non-null  float64       \n",
            " 25  Borough                         18361 non-null  object        \n",
            " 26  X Coordinate (State Plane)      17176 non-null  object        \n",
            " 27  Y Coordinate (State Plane)      17176 non-null  object        \n",
            " 28  Open Data Channel Type          18361 non-null  object        \n",
            " 29  Park Facility Name              18361 non-null  object        \n",
            " 30  Park Borough                    18361 non-null  object        \n",
            " 31  Vehicle Type                    0 non-null      float64       \n",
            " 32  Taxi Company Borough            13 non-null     object        \n",
            " 33  Taxi Pick Up Location           70 non-null     object        \n",
            " 34  Bridge Highway Name             38 non-null     object        \n",
            " 35  Bridge Highway Direction        38 non-null     object        \n",
            " 36  Road Ramp                       38 non-null     object        \n",
            " 37  Bridge Highway Segment          52 non-null     object        \n",
            " 38  Latitude                        17176 non-null  float64       \n",
            " 39  Longitude                       17176 non-null  float64       \n",
            " 40  Location                        17176 non-null  object        \n",
            " 41  is_noise                        18362 non-null  bool          \n",
            "dtypes: bool(1), datetime64[ns](1), float64(5), int64(1), object(34)\n",
            "memory usage: 5.8+ MB\n"
          ],
          "name": "stdout"
        }
      ]
    },
    {
      "cell_type": "markdown",
      "metadata": {
        "id": "ZujV6BGqFNmw"
      },
      "source": [
        "# Bagian kota mana yang paling sering komplain pada hari Minggu?\n",
        "\n",
        "Solusi :\n",
        "1. Filter keluhan kebisingan menggunakan kolom baru 'is_noise'\n",
        "2. Filter hari-hari dalam seminggu menggunakan kolom 'Created Date' dan gunakan fungsi dt.dayofweek untuk mengembalikan angka yang berbeda untuk setiap hari dalam seminggu. Minggu adalah nomor 6 sesuai dokumentasi.\n",
        "3. Kelompokkan data menurut lingkungan menggunakan kolom 'Borough', dan urutkan lingkungan dari yang terbanyak"
      ]
    },
    {
      "cell_type": "code",
      "metadata": {
        "id": "rMzfktCzGVhR",
        "outputId": "82ca9fdb-4acc-4d94-878e-a33561962418",
        "colab": {
          "base_uri": "https://localhost:8080/"
        }
      },
      "source": [
        "df[(df['is_noise'] == True) & (df['Created Date'].dt.dayofweek == 6)] \\\n",
        "    .groupby('Borough').count()['Complaint Type'] \\\n",
        "    .sort_values(ascending=False)"
      ],
      "execution_count": 19,
      "outputs": [
        {
          "output_type": "execute_result",
          "data": {
            "text/plain": [
              "Borough\n",
              "MANHATTAN        391\n",
              "BROOKLYN         378\n",
              "BRONX            316\n",
              "QUEENS           268\n",
              "STATEN ISLAND     45\n",
              "Unspecified        1\n",
              "Name: Complaint Type, dtype: int64"
            ]
          },
          "metadata": {
            "tags": []
          },
          "execution_count": 19
        }
      ]
    },
    {
      "cell_type": "code",
      "metadata": {
        "id": "lYuuQvwoG2WU",
        "outputId": "a5a5915a-b811-4461-fcef-bf22a0781ed6",
        "colab": {
          "base_uri": "https://localhost:8080/",
          "height": 639
        }
      },
      "source": [
        "df[(df['is_noise'] == True) & (df['Created Date'].dt.dayofweek == 6)] \\\n",
        "    .groupby('Borough').count()['Complaint Type'] \\\n",
        "    .sort_values(ascending=False).plot(kind='bar', figsize=(15,10))\n",
        "plt.title('Jumlah Keluhan per Daerah di hari Minggu')\n",
        "plt.ylabel('Jumlah Keluhan')\n",
        "plt.xticks(rotation=0)"
      ],
      "execution_count": 20,
      "outputs": [
        {
          "output_type": "execute_result",
          "data": {
            "text/plain": [
              "(array([0, 1, 2, 3, 4, 5]), <a list of 6 Text major ticklabel objects>)"
            ]
          },
          "metadata": {
            "tags": []
          },
          "execution_count": 20
        },
        {
          "output_type": "display_data",
          "data": {
            "image/png": "[encoded data removed]",
            "text/plain": [
              "<Figure size 1080x720 with 1 Axes>"
            ]
          },
          "metadata": {
            "tags": [],
            "needs_background": "light"
          }
        }
      ]
    },
    {
      "cell_type": "markdown",
      "metadata": {
        "id": "J6Wf7JToIaSZ"
      },
      "source": [
        "Eksplorasi Kode Pos"
      ]
    },
    {
      "cell_type": "code",
      "metadata": {
        "id": "T8Yoeiw4Ik-p",
        "outputId": "7040ac42-f764-4abd-9e18-bc3786522925",
        "colab": {
          "base_uri": "https://localhost:8080/"
        }
      },
      "source": [
        "df['Incident Zip'].unique()"
      ],
      "execution_count": 21,
      "outputs": [
        {
          "output_type": "execute_result",
          "data": {
            "text/plain": [
              "array([10312., 11217., 11224., 10025., 10454., 11204., 11226., 11225.,\n",
              "       10029., 11432., 10014., 11422., 10467., 11416., 10463., 10016.,\n",
              "       10026., 11356., 10301., 11235., 10037., 11385., 11222., 11207.,\n",
              "       10040., 10306., 10024., 11236., 11205., 10022., 10468., 10023.,\n",
              "       11238., 11435., 11213., 10473., 11372., 10010., 10469., 11220.,\n",
              "       11203., 11419., 10002., 10452., 11234., 10453., 11001., 10032.,\n",
              "       11378., 11216., 11362., 11368., 10460., 10310., 11211., 11355.,\n",
              "       10459., 10457., 10465., 10455., 11214., 10456., 11223., 10001.,\n",
              "       10012., 10003., 10031., 11237., 11426., 11102., 10011., 10305.,\n",
              "       10018., 10017., 10314., 11232., 11210., 10039., 10033., 11433.,\n",
              "       11417., 10466., 11106., 10309., 11358., 11360., 11209.,    nan,\n",
              "       10308., 10475., 11354., 10451., 11208., 11105., 11413., 11229.,\n",
              "       10458., 10034., 11219., 10028., 11103., 10128., 11429., 11109.,\n",
              "       11233., 11374., 11375., 11379., 11423., 10027., 11414., 11692.,\n",
              "       10470., 11221., 10474., 10471., 11101., 11377., 10035., 10019.,\n",
              "       10030., 10013., 10009., 11215., 10472., 11693., 10462., 11206.,\n",
              "       11370., 11434., 11104., 11365., 11201., 11212., 10304., 11373.,\n",
              "       11004., 10036., 10065., 11357., 11691., 11230., 11420., 10461.,\n",
              "       11249., 11421., 10307., 11369., 10005., 10038., 11228., 11364.,\n",
              "       10464., 11231., 11361., 11418., 10303., 10302., 11436., 10111.,\n",
              "       10021., 11367., 11411., 11694., 11415., 11363., 11218., 11366.,\n",
              "       11427., 10007., 10282., 11412., 11428., 10075., 11040.,     0.,\n",
              "       10020., 10168., 10004., 11430.,  7114., 11239., 10006., 10119.,\n",
              "       10279., 60179., 10120.,  7020., 10178., 10165., 10280., 10069.,\n",
              "       10504., 10048., 10281.,    83., 10271., 11697., 10000., 10044.,\n",
              "       10704.])"
            ]
          },
          "metadata": {
            "tags": []
          },
          "execution_count": 21
        }
      ]
    },
    {
      "cell_type": "code",
      "metadata": {
        "id": "LqfPfT4DIpAJ"
      },
      "source": [
        "na_values = ['NO CLUE', 'N/A', '0', '*', 'VARIES']"
      ],
      "execution_count": 22,
      "outputs": []
    },
    {
      "cell_type": "code",
      "metadata": {
        "id": "nruYzulAIuu2",
        "outputId": "b0568940-4521-48a4-bdef-d7ba3faa37a8",
        "colab": {
          "base_uri": "https://localhost:8080/"
        }
      },
      "source": [
        "requests = pd.read_csv('311_Service_Requests_APRIL2018.csv', na_values=na_values, dtype={'Incident Zip': str})"
      ],
      "execution_count": 23,
      "outputs": [
        {
          "output_type": "stream",
          "text": [
            "/usr/local/lib/python3.6/dist-packages/IPython/core/interactiveshell.py:2718: DtypeWarning: Columns (17,31) have mixed types.Specify dtype option on import or set low_memory=False.\n",
            "  interactivity=interactivity, compiler=compiler, result=result)\n"
          ],
          "name": "stderr"
        }
      ]
    },
    {
      "cell_type": "code",
      "metadata": {
        "id": "1O5WFyHuI8jJ",
        "outputId": "06672098-e80d-4a20-badd-803465864d65",
        "colab": {
          "base_uri": "https://localhost:8080/",
          "height": 626
        }
      },
      "source": [
        "requests.head(5)"
      ],
      "execution_count": 25,
      "outputs": [
        {
          "output_type": "execute_result",
          "data": {
            "text/html": [
              "<div>\n",
              "<style scoped>\n",
              "    .dataframe tbody tr th:only-of-type {\n",
              "        vertical-align: middle;\n",
              "    }\n",
              "\n",
              "    .dataframe tbody tr th {\n",
              "        vertical-align: top;\n",
              "    }\n",
              "\n",
              "    .dataframe thead th {\n",
              "        text-align: right;\n",
              "    }\n",
              "</style>\n",
              "<table border=\"1\" class=\"dataframe\">\n",
              "  <thead>\n",
              "    <tr style=\"text-align: right;\">\n",
              "      <th></th>\n",
              "      <th>Unique Key</th>\n",
              "      <th>Created Date</th>\n",
              "      <th>Closed Date</th>\n",
              "      <th>Agency</th>\n",
              "      <th>Agency Name</th>\n",
              "      <th>Complaint Type</th>\n",
              "      <th>Descriptor</th>\n",
              "      <th>Location Type</th>\n",
              "      <th>Incident Zip</th>\n",
              "      <th>Incident Address</th>\n",
              "      <th>Street Name</th>\n",
              "      <th>Cross Street 1</th>\n",
              "      <th>Cross Street 2</th>\n",
              "      <th>Intersection Street 1</th>\n",
              "      <th>Intersection Street 2</th>\n",
              "      <th>Address Type</th>\n",
              "      <th>City</th>\n",
              "      <th>Landmark</th>\n",
              "      <th>Facility Type</th>\n",
              "      <th>Status</th>\n",
              "      <th>Due Date</th>\n",
              "      <th>Resolution Description</th>\n",
              "      <th>Resolution Action Updated Date</th>\n",
              "      <th>Community Board</th>\n",
              "      <th>BBL</th>\n",
              "      <th>Borough</th>\n",
              "      <th>X Coordinate (State Plane)</th>\n",
              "      <th>Y Coordinate (State Plane)</th>\n",
              "      <th>Open Data Channel Type</th>\n",
              "      <th>Park Facility Name</th>\n",
              "      <th>Park Borough</th>\n",
              "      <th>Vehicle Type</th>\n",
              "      <th>Taxi Company Borough</th>\n",
              "      <th>Taxi Pick Up Location</th>\n",
              "      <th>Bridge Highway Name</th>\n",
              "      <th>Bridge Highway Direction</th>\n",
              "      <th>Road Ramp</th>\n",
              "      <th>Bridge Highway Segment</th>\n",
              "      <th>Latitude</th>\n",
              "      <th>Longitude</th>\n",
              "      <th>Location</th>\n",
              "    </tr>\n",
              "  </thead>\n",
              "  <tbody>\n",
              "    <tr>\n",
              "      <th>0</th>\n",
              "      <td>38837194</td>\n",
              "      <td>04/01/2018 12:00:00 AM</td>\n",
              "      <td>04/10/2018 12:00:00 AM</td>\n",
              "      <td>DOHMH</td>\n",
              "      <td>Department of Health and Mental Hygiene</td>\n",
              "      <td>Standing Water</td>\n",
              "      <td>Swimming Pool - Unmaintained</td>\n",
              "      <td>1-2 Family Dwelling</td>\n",
              "      <td>10312</td>\n",
              "      <td>45 JEANETTE AVENUE</td>\n",
              "      <td>JEANETTE AVENUE</td>\n",
              "      <td>ANNADALE ROAD</td>\n",
              "      <td>RALPH AVENUE</td>\n",
              "      <td>NaN</td>\n",
              "      <td>NaN</td>\n",
              "      <td>ADDRESS</td>\n",
              "      <td>STATEN ISLAND</td>\n",
              "      <td>NaN</td>\n",
              "      <td>NaN</td>\n",
              "      <td>Closed</td>\n",
              "      <td>05/01/2018 07:02:38 PM</td>\n",
              "      <td>The Department of Health and Mental Hygiene wi...</td>\n",
              "      <td>04/10/2018 12:00:00 AM</td>\n",
              "      <td>03 STATEN ISLAND</td>\n",
              "      <td>5.062210e+09</td>\n",
              "      <td>STATEN ISLAND</td>\n",
              "      <td>935,441</td>\n",
              "      <td>137,203</td>\n",
              "      <td>PHONE</td>\n",
              "      <td>Unspecified</td>\n",
              "      <td>STATEN ISLAND</td>\n",
              "      <td>NaN</td>\n",
              "      <td>NaN</td>\n",
              "      <td>NaN</td>\n",
              "      <td>NaN</td>\n",
              "      <td>NaN</td>\n",
              "      <td>NaN</td>\n",
              "      <td>NaN</td>\n",
              "      <td>40.543132</td>\n",
              "      <td>-74.175614</td>\n",
              "      <td>(40.54313178878882, -74.17561421997694)</td>\n",
              "    </tr>\n",
              "    <tr>\n",
              "      <th>1</th>\n",
              "      <td>38837043</td>\n",
              "      <td>04/01/2018 12:00:00 AM</td>\n",
              "      <td>03/12/2018 12:00:00 AM</td>\n",
              "      <td>DOHMH</td>\n",
              "      <td>Department of Health and Mental Hygiene</td>\n",
              "      <td>Rodent</td>\n",
              "      <td>Condition Attracting Rodents</td>\n",
              "      <td>3+ Family Apt. Building</td>\n",
              "      <td>11217</td>\n",
              "      <td>399 ATLANTIC AVENUE</td>\n",
              "      <td>ATLANTIC AVENUE</td>\n",
              "      <td>NaN</td>\n",
              "      <td>NaN</td>\n",
              "      <td>NaN</td>\n",
              "      <td>NaN</td>\n",
              "      <td>LATLONG</td>\n",
              "      <td>BROOKLYN</td>\n",
              "      <td>NaN</td>\n",
              "      <td>NaN</td>\n",
              "      <td>Pending</td>\n",
              "      <td>05/01/2018 10:59:08 AM</td>\n",
              "      <td>The Department of Health and Mental Hygiene wi...</td>\n",
              "      <td>04/01/2018 11:02:27 AM</td>\n",
              "      <td>02 BROOKLYN</td>\n",
              "      <td>NaN</td>\n",
              "      <td>BROOKLYN</td>\n",
              "      <td>988,460</td>\n",
              "      <td>189,634</td>\n",
              "      <td>MOBILE</td>\n",
              "      <td>Unspecified</td>\n",
              "      <td>BROOKLYN</td>\n",
              "      <td>NaN</td>\n",
              "      <td>NaN</td>\n",
              "      <td>NaN</td>\n",
              "      <td>NaN</td>\n",
              "      <td>NaN</td>\n",
              "      <td>NaN</td>\n",
              "      <td>NaN</td>\n",
              "      <td>40.687177</td>\n",
              "      <td>-73.984820</td>\n",
              "      <td>(40.687177293988285, -73.98481975668435)</td>\n",
              "    </tr>\n",
              "    <tr>\n",
              "      <th>2</th>\n",
              "      <td>38836824</td>\n",
              "      <td>04/01/2018 12:00:00 AM</td>\n",
              "      <td>04/09/2018 12:00:00 AM</td>\n",
              "      <td>DOHMH</td>\n",
              "      <td>Department of Health and Mental Hygiene</td>\n",
              "      <td>Rodent</td>\n",
              "      <td>Rat Sighting</td>\n",
              "      <td>Commercial Building</td>\n",
              "      <td>11224</td>\n",
              "      <td>2980 WEST   29 STREET</td>\n",
              "      <td>WEST   29 STREET</td>\n",
              "      <td>MERMAID AVENUE</td>\n",
              "      <td>SURF AVENUE</td>\n",
              "      <td>NaN</td>\n",
              "      <td>NaN</td>\n",
              "      <td>ADDRESS</td>\n",
              "      <td>BROOKLYN</td>\n",
              "      <td>NaN</td>\n",
              "      <td>NaN</td>\n",
              "      <td>Closed</td>\n",
              "      <td>05/01/2018 10:15:54 AM</td>\n",
              "      <td>The Department of Health and Mental Hygiene wi...</td>\n",
              "      <td>04/09/2018 12:00:00 AM</td>\n",
              "      <td>13 BROOKLYN</td>\n",
              "      <td>3.070510e+09</td>\n",
              "      <td>BROOKLYN</td>\n",
              "      <td>985,592</td>\n",
              "      <td>148,491</td>\n",
              "      <td>PHONE</td>\n",
              "      <td>Unspecified</td>\n",
              "      <td>BROOKLYN</td>\n",
              "      <td>NaN</td>\n",
              "      <td>NaN</td>\n",
              "      <td>NaN</td>\n",
              "      <td>NaN</td>\n",
              "      <td>NaN</td>\n",
              "      <td>NaN</td>\n",
              "      <td>NaN</td>\n",
              "      <td>40.574249</td>\n",
              "      <td>-73.995169</td>\n",
              "      <td>(40.57424936932171, -73.99516925322999)</td>\n",
              "    </tr>\n",
              "    <tr>\n",
              "      <th>3</th>\n",
              "      <td>38836823</td>\n",
              "      <td>04/01/2018 12:00:00 AM</td>\n",
              "      <td>03/20/2018 12:00:00 AM</td>\n",
              "      <td>DOHMH</td>\n",
              "      <td>Department of Health and Mental Hygiene</td>\n",
              "      <td>Rodent</td>\n",
              "      <td>Rat Sighting</td>\n",
              "      <td>3+ Family Apt. Building</td>\n",
              "      <td>10025</td>\n",
              "      <td>360 CENTRAL PARK WEST</td>\n",
              "      <td>CENTRAL PARK WEST</td>\n",
              "      <td>WEST 95 STREET</td>\n",
              "      <td>WEST 96 STREET</td>\n",
              "      <td>NaN</td>\n",
              "      <td>NaN</td>\n",
              "      <td>ADDRESS</td>\n",
              "      <td>NEW YORK</td>\n",
              "      <td>NaN</td>\n",
              "      <td>NaN</td>\n",
              "      <td>Pending</td>\n",
              "      <td>05/01/2018 08:06:26 PM</td>\n",
              "      <td>The Department of Health and Mental Hygiene wi...</td>\n",
              "      <td>04/01/2018 08:09:23 PM</td>\n",
              "      <td>07 MANHATTAN</td>\n",
              "      <td>1.012098e+09</td>\n",
              "      <td>MANHATTAN</td>\n",
              "      <td>994,006</td>\n",
              "      <td>227,668</td>\n",
              "      <td>ONLINE</td>\n",
              "      <td>Unspecified</td>\n",
              "      <td>MANHATTAN</td>\n",
              "      <td>NaN</td>\n",
              "      <td>NaN</td>\n",
              "      <td>NaN</td>\n",
              "      <td>NaN</td>\n",
              "      <td>NaN</td>\n",
              "      <td>NaN</td>\n",
              "      <td>NaN</td>\n",
              "      <td>40.791567</td>\n",
              "      <td>-73.964767</td>\n",
              "      <td>(40.79156678627206, -73.9647670611818)</td>\n",
              "    </tr>\n",
              "    <tr>\n",
              "      <th>4</th>\n",
              "      <td>38836788</td>\n",
              "      <td>04/01/2018 12:00:00 AM</td>\n",
              "      <td>04/04/2018 06:19:08 PM</td>\n",
              "      <td>DOHMH</td>\n",
              "      <td>Department of Health and Mental Hygiene</td>\n",
              "      <td>Unsanitary Animal Pvt Property</td>\n",
              "      <td>Dog</td>\n",
              "      <td>3+ Family Apartment Building</td>\n",
              "      <td>10454</td>\n",
              "      <td>590 EAST  138 STREET</td>\n",
              "      <td>EAST  138 STREET</td>\n",
              "      <td>ST ANNS AVENUE</td>\n",
              "      <td>CYPRESS AVENUE</td>\n",
              "      <td>NaN</td>\n",
              "      <td>NaN</td>\n",
              "      <td>ADDRESS</td>\n",
              "      <td>BRONX</td>\n",
              "      <td>NaN</td>\n",
              "      <td>NaN</td>\n",
              "      <td>Closed</td>\n",
              "      <td>05/01/2018 03:10:20 PM</td>\n",
              "      <td>The Department of Health and Mental Hygiene wi...</td>\n",
              "      <td>04/04/2018 06:19:08 PM</td>\n",
              "      <td>01 BRONX</td>\n",
              "      <td>2.025500e+09</td>\n",
              "      <td>BRONX</td>\n",
              "      <td>1,007,381</td>\n",
              "      <td>233,073</td>\n",
              "      <td>ONLINE</td>\n",
              "      <td>Unspecified</td>\n",
              "      <td>BRONX</td>\n",
              "      <td>NaN</td>\n",
              "      <td>NaN</td>\n",
              "      <td>NaN</td>\n",
              "      <td>NaN</td>\n",
              "      <td>NaN</td>\n",
              "      <td>NaN</td>\n",
              "      <td>NaN</td>\n",
              "      <td>40.806377</td>\n",
              "      <td>-73.916446</td>\n",
              "      <td>(40.806377143967396, -73.91644582317069)</td>\n",
              "    </tr>\n",
              "  </tbody>\n",
              "</table>\n",
              "</div>"
            ],
            "text/plain": [
              "   Unique Key  ...                                  Location\n",
              "0    38837194  ...   (40.54313178878882, -74.17561421997694)\n",
              "1    38837043  ...  (40.687177293988285, -73.98481975668435)\n",
              "2    38836824  ...   (40.57424936932171, -73.99516925322999)\n",
              "3    38836823  ...    (40.79156678627206, -73.9647670611818)\n",
              "4    38836788  ...  (40.806377143967396, -73.91644582317069)\n",
              "\n",
              "[5 rows x 41 columns]"
            ]
          },
          "metadata": {
            "tags": []
          },
          "execution_count": 25
        }
      ]
    },
    {
      "cell_type": "code",
      "metadata": {
        "id": "gVM96Qf5IyXy",
        "outputId": "0168627d-54ce-4bfc-8b88-a82818fb4be3",
        "colab": {
          "base_uri": "https://localhost:8080/"
        }
      },
      "source": [
        "requests['Incident Zip'].unique()"
      ],
      "execution_count": 24,
      "outputs": [
        {
          "output_type": "execute_result",
          "data": {
            "text/plain": [
              "array(['10312', '11217', '11224', '10025', '10454', '11204', '11226',\n",
              "       '11225', '10029', '11432', '10014', '11422', '10467', '11416',\n",
              "       '10463', '10016', '10026', '11356', '10301', '11235', '10037',\n",
              "       '11385', '11222', '11207', '10040', '10306', '10024', '11236',\n",
              "       '11205', '10022', '10468', '10023', '11238', '11435', '11213',\n",
              "       '10473', '11372', '10010', '10469', '11220', '11203', '11419',\n",
              "       '10002', '10452', '11234', '10453', '11001', '10032', '11378',\n",
              "       '11216', '11362', '11368', '10460', '10310', '11211', '11355',\n",
              "       '10459', '10457', '10465', '10455', '11214', '10456', '11223',\n",
              "       '10001', '10012', '10003', '10031', '11237', '11426', '11102',\n",
              "       '10011', '10305', '10018', '10017', '10314', '11232', '11210',\n",
              "       '10039', '10033', '11433', '11417', '10466', '11106', '10309',\n",
              "       '11358', '11360', '11209', nan, '10308', '10475', '11354', '10451',\n",
              "       '11208', '11105', '11413', '11229', '10458', '10034', '11219',\n",
              "       '10028', '11103', '10128', '11429', '11109', '11233', '11374',\n",
              "       '11375', '11379', '11423', '10027', '11414', '11692', '10470',\n",
              "       '11221', '10474', '10471', '11101', '11377', '10035', '10019',\n",
              "       '10030', '10013', '10009', '11215', '10472', '11693', '10462',\n",
              "       '11206', '11370', '11434', '11104', '11365', '11201', '11212',\n",
              "       '10304', '11373', '11004', '10036', '10065', '11357', '11691',\n",
              "       '11230', '11420', '10461', '11249', '11421', '10307', '11369',\n",
              "       '10005', '10038', '11228', '11364', '10464', '11231', '11361',\n",
              "       '11418', '10303', '10302', '11436', '10111', '10021', '11367',\n",
              "       '11411', '11694', '11415', '11363', '11218', '11366', '11427',\n",
              "       '10007', '10282', '11412', '11428', '10075', '11040', '10020',\n",
              "       '10168', '10004', '11430', '07114', '11239', '10006', '10119',\n",
              "       '10279', '60179', '10120', '07020', '10178', '10165', '10280',\n",
              "       '10069', '10504', '10048', '10281', '00083', '10271', '11697',\n",
              "       '10000', '10044', '10704', '10158', '112516', '11710', '11557',\n",
              "       '10103', '10121', '10041', '11735', '10112', '11251', '11580',\n",
              "       '11371', '98057', '74020', '10598', '14221', '14202', '10278',\n",
              "       '10122', '10167', '07656', '10154', '23502', '11005', '55164',\n",
              "       '11695', '10583', '10516', '10118', '10116', '10176', '10123',\n",
              "       '07607', '11202', '55164-0437', '0740', '11709', '10105', '06901',\n",
              "       '10169', '10155', '07013', '07621', '10115', '90091', '10606',\n",
              "       '11559', '07030', '11242', '07042', '10603', '11561', '10162',\n",
              "       '00565', '10528', '07094', '07666', '10045', '10173', '11247',\n",
              "       '11548', '11727', '10107', '11757', '11576-1502', '11553', '07514',\n",
              "       '10803', '210002', '07010', '11598', '1423', '10707', '10801',\n",
              "       '10170', '10172', '00000', '98036', '10601', '11797', '07093',\n",
              "       '14266', '11042', '11590', '94524', '12222', '07503', '07302',\n",
              "       '10174', '10705'], dtype=object)"
            ]
          },
          "metadata": {
            "tags": []
          },
          "execution_count": 24
        }
      ]
    },
    {
      "cell_type": "code",
      "metadata": {
        "id": "G57tni1oJLAj",
        "outputId": "72c5b7d6-fe11-43aa-be47-4d20af4465fc",
        "colab": {
          "base_uri": "https://localhost:8080/"
        }
      },
      "source": [
        "rows_with_dashes = requests['Incident Zip'].str.contains('-').fillna(False)\n",
        "len(requests[rows_with_dashes])"
      ],
      "execution_count": 28,
      "outputs": [
        {
          "output_type": "execute_result",
          "data": {
            "text/plain": [
              "2"
            ]
          },
          "metadata": {
            "tags": []
          },
          "execution_count": 28
        }
      ]
    },
    {
      "cell_type": "code",
      "metadata": {
        "id": "uEe7Twi5Jbau",
        "outputId": "9e37f9ee-bad8-42b8-b950-1bf0f13f29db",
        "colab": {
          "base_uri": "https://localhost:8080/",
          "height": 306
        }
      },
      "source": [
        "requests[rows_with_dashes]"
      ],
      "execution_count": 29,
      "outputs": [
        {
          "output_type": "execute_result",
          "data": {
            "text/html": [
              "<div>\n",
              "<style scoped>\n",
              "    .dataframe tbody tr th:only-of-type {\n",
              "        vertical-align: middle;\n",
              "    }\n",
              "\n",
              "    .dataframe tbody tr th {\n",
              "        vertical-align: top;\n",
              "    }\n",
              "\n",
              "    .dataframe thead th {\n",
              "        text-align: right;\n",
              "    }\n",
              "</style>\n",
              "<table border=\"1\" class=\"dataframe\">\n",
              "  <thead>\n",
              "    <tr style=\"text-align: right;\">\n",
              "      <th></th>\n",
              "      <th>Unique Key</th>\n",
              "      <th>Created Date</th>\n",
              "      <th>Closed Date</th>\n",
              "      <th>Agency</th>\n",
              "      <th>Agency Name</th>\n",
              "      <th>Complaint Type</th>\n",
              "      <th>Descriptor</th>\n",
              "      <th>Location Type</th>\n",
              "      <th>Incident Zip</th>\n",
              "      <th>Incident Address</th>\n",
              "      <th>Street Name</th>\n",
              "      <th>Cross Street 1</th>\n",
              "      <th>Cross Street 2</th>\n",
              "      <th>Intersection Street 1</th>\n",
              "      <th>Intersection Street 2</th>\n",
              "      <th>Address Type</th>\n",
              "      <th>City</th>\n",
              "      <th>Landmark</th>\n",
              "      <th>Facility Type</th>\n",
              "      <th>Status</th>\n",
              "      <th>Due Date</th>\n",
              "      <th>Resolution Description</th>\n",
              "      <th>Resolution Action Updated Date</th>\n",
              "      <th>Community Board</th>\n",
              "      <th>BBL</th>\n",
              "      <th>Borough</th>\n",
              "      <th>X Coordinate (State Plane)</th>\n",
              "      <th>Y Coordinate (State Plane)</th>\n",
              "      <th>Open Data Channel Type</th>\n",
              "      <th>Park Facility Name</th>\n",
              "      <th>Park Borough</th>\n",
              "      <th>Vehicle Type</th>\n",
              "      <th>Taxi Company Borough</th>\n",
              "      <th>Taxi Pick Up Location</th>\n",
              "      <th>Bridge Highway Name</th>\n",
              "      <th>Bridge Highway Direction</th>\n",
              "      <th>Road Ramp</th>\n",
              "      <th>Bridge Highway Segment</th>\n",
              "      <th>Latitude</th>\n",
              "      <th>Longitude</th>\n",
              "      <th>Location</th>\n",
              "    </tr>\n",
              "  </thead>\n",
              "  <tbody>\n",
              "    <tr>\n",
              "      <th>71027</th>\n",
              "      <td>38913093</td>\n",
              "      <td>04/11/2018 04:09:03 PM</td>\n",
              "      <td>04/27/2018 01:06:07 AM</td>\n",
              "      <td>DCA</td>\n",
              "      <td>Department of Consumer Affairs</td>\n",
              "      <td>Consumer Complaint</td>\n",
              "      <td>Debt Not Owed</td>\n",
              "      <td>NaN</td>\n",
              "      <td>55164-0437</td>\n",
              "      <td>P.O BOX 64437</td>\n",
              "      <td>64437</td>\n",
              "      <td>NaN</td>\n",
              "      <td>NaN</td>\n",
              "      <td>NaN</td>\n",
              "      <td>NaN</td>\n",
              "      <td>NaN</td>\n",
              "      <td>ST PAUL</td>\n",
              "      <td>NaN</td>\n",
              "      <td>NaN</td>\n",
              "      <td>Closed</td>\n",
              "      <td>04/28/2018 02:03:26 PM</td>\n",
              "      <td>The Department of Consumer Affairs mailed you ...</td>\n",
              "      <td>04/27/2018 01:06:07 AM</td>\n",
              "      <td>0 Unspecified</td>\n",
              "      <td>NaN</td>\n",
              "      <td>Unspecified</td>\n",
              "      <td>NaN</td>\n",
              "      <td>NaN</td>\n",
              "      <td>PHONE</td>\n",
              "      <td>Unspecified</td>\n",
              "      <td>Unspecified</td>\n",
              "      <td>NaN</td>\n",
              "      <td>NaN</td>\n",
              "      <td>NaN</td>\n",
              "      <td>NaN</td>\n",
              "      <td>NaN</td>\n",
              "      <td>NaN</td>\n",
              "      <td>NaN</td>\n",
              "      <td>NaN</td>\n",
              "      <td>NaN</td>\n",
              "      <td>NaN</td>\n",
              "    </tr>\n",
              "    <tr>\n",
              "      <th>135549</th>\n",
              "      <td>38987065</td>\n",
              "      <td>04/20/2018 01:12:58 PM</td>\n",
              "      <td>NaN</td>\n",
              "      <td>TLC</td>\n",
              "      <td>Taxi and Limousine Commission</td>\n",
              "      <td>Taxi Complaint</td>\n",
              "      <td>Driver Complaint</td>\n",
              "      <td>NaN</td>\n",
              "      <td>11576-1502</td>\n",
              "      <td>1053 NORTHERN BLVD</td>\n",
              "      <td>NORTHERN BLVD</td>\n",
              "      <td>NaN</td>\n",
              "      <td>NaN</td>\n",
              "      <td>NaN</td>\n",
              "      <td>NaN</td>\n",
              "      <td>NaN</td>\n",
              "      <td>ROSLYN</td>\n",
              "      <td>NaN</td>\n",
              "      <td>NaN</td>\n",
              "      <td>Assigned</td>\n",
              "      <td>05/23/2018 09:32:40 AM</td>\n",
              "      <td>The Taxi and Limousine Commission will contact...</td>\n",
              "      <td>05/24/2018 03:52:55 PM</td>\n",
              "      <td>0 Unspecified</td>\n",
              "      <td>NaN</td>\n",
              "      <td>Unspecified</td>\n",
              "      <td>NaN</td>\n",
              "      <td>NaN</td>\n",
              "      <td>ONLINE</td>\n",
              "      <td>Unspecified</td>\n",
              "      <td>Unspecified</td>\n",
              "      <td>NaN</td>\n",
              "      <td>NaN</td>\n",
              "      <td>La Guardia Airport</td>\n",
              "      <td>NaN</td>\n",
              "      <td>NaN</td>\n",
              "      <td>NaN</td>\n",
              "      <td>NaN</td>\n",
              "      <td>NaN</td>\n",
              "      <td>NaN</td>\n",
              "      <td>NaN</td>\n",
              "    </tr>\n",
              "  </tbody>\n",
              "</table>\n",
              "</div>"
            ],
            "text/plain": [
              "        Unique Key            Created Date  ... Longitude Location\n",
              "71027     38913093  04/11/2018 04:09:03 PM  ...       NaN      NaN\n",
              "135549    38987065  04/20/2018 01:12:58 PM  ...       NaN      NaN\n",
              "\n",
              "[2 rows x 41 columns]"
            ]
          },
          "metadata": {
            "tags": []
          },
          "execution_count": 29
        }
      ]
    },
    {
      "cell_type": "code",
      "metadata": {
        "id": "4iLZ_lPYJiEF",
        "outputId": "b2ca4352-7d19-4017-ce2f-b7ac4f1b5359",
        "colab": {
          "base_uri": "https://localhost:8080/"
        }
      },
      "source": [
        "long_zip_codes = requests['Incident Zip'].str.len() > 5\n",
        "requests['Incident Zip'][long_zip_codes].unique()"
      ],
      "execution_count": 30,
      "outputs": [
        {
          "output_type": "execute_result",
          "data": {
            "text/plain": [
              "array(['112516', '55164-0437', '11576-1502', '210002'], dtype=object)"
            ]
          },
          "metadata": {
            "tags": []
          },
          "execution_count": 30
        }
      ]
    },
    {
      "cell_type": "code",
      "metadata": {
        "id": "26tGxyiOJoYv"
      },
      "source": [
        "requests['Incident Zip'] = requests['Incident Zip'].str.slice(0, 5)"
      ],
      "execution_count": 31,
      "outputs": []
    },
    {
      "cell_type": "code",
      "metadata": {
        "id": "WVGUgD4uJuZ5"
      },
      "source": [
        "unique_zips = requests['Incident Zip'].unique()"
      ],
      "execution_count": 32,
      "outputs": []
    },
    {
      "cell_type": "code",
      "metadata": {
        "id": "rGS5_fqwJz8p"
      },
      "source": [
        "unique_zips = unique_zips[~pd.isnull(unique_zips)]"
      ],
      "execution_count": 33,
      "outputs": []
    },
    {
      "cell_type": "code",
      "metadata": {
        "id": "CAUHeNsPJ4MI",
        "outputId": "0bcc841e-b44f-44a3-84c4-4057f6d3007a",
        "colab": {
          "base_uri": "https://localhost:8080/"
        }
      },
      "source": [
        "unique_zips.sort()\n",
        "unique_zips"
      ],
      "execution_count": 34,
      "outputs": [
        {
          "output_type": "execute_result",
          "data": {
            "text/plain": [
              "array(['00000', '00083', '00565', '06901', '07010', '07013', '07020',\n",
              "       '07030', '07042', '07093', '07094', '07114', '07302', '0740',\n",
              "       '07503', '07514', '07607', '07621', '07656', '07666', '10000',\n",
              "       '10001', '10002', '10003', '10004', '10005', '10006', '10007',\n",
              "       '10009', '10010', '10011', '10012', '10013', '10014', '10016',\n",
              "       '10017', '10018', '10019', '10020', '10021', '10022', '10023',\n",
              "       '10024', '10025', '10026', '10027', '10028', '10029', '10030',\n",
              "       '10031', '10032', '10033', '10034', '10035', '10036', '10037',\n",
              "       '10038', '10039', '10040', '10041', '10044', '10045', '10048',\n",
              "       '10065', '10069', '10075', '10103', '10105', '10107', '10111',\n",
              "       '10112', '10115', '10116', '10118', '10119', '10120', '10121',\n",
              "       '10122', '10123', '10128', '10154', '10155', '10158', '10162',\n",
              "       '10165', '10167', '10168', '10169', '10170', '10172', '10173',\n",
              "       '10174', '10176', '10178', '10271', '10278', '10279', '10280',\n",
              "       '10281', '10282', '10301', '10302', '10303', '10304', '10305',\n",
              "       '10306', '10307', '10308', '10309', '10310', '10312', '10314',\n",
              "       '10451', '10452', '10453', '10454', '10455', '10456', '10457',\n",
              "       '10458', '10459', '10460', '10461', '10462', '10463', '10464',\n",
              "       '10465', '10466', '10467', '10468', '10469', '10470', '10471',\n",
              "       '10472', '10473', '10474', '10475', '10504', '10516', '10528',\n",
              "       '10583', '10598', '10601', '10603', '10606', '10704', '10705',\n",
              "       '10707', '10801', '10803', '11001', '11004', '11005', '11040',\n",
              "       '11042', '11101', '11102', '11103', '11104', '11105', '11106',\n",
              "       '11109', '11201', '11202', '11203', '11204', '11205', '11206',\n",
              "       '11207', '11208', '11209', '11210', '11211', '11212', '11213',\n",
              "       '11214', '11215', '11216', '11217', '11218', '11219', '11220',\n",
              "       '11221', '11222', '11223', '11224', '11225', '11226', '11228',\n",
              "       '11229', '11230', '11231', '11232', '11233', '11234', '11235',\n",
              "       '11236', '11237', '11238', '11239', '11242', '11247', '11249',\n",
              "       '11251', '11354', '11355', '11356', '11357', '11358', '11360',\n",
              "       '11361', '11362', '11363', '11364', '11365', '11366', '11367',\n",
              "       '11368', '11369', '11370', '11371', '11372', '11373', '11374',\n",
              "       '11375', '11377', '11378', '11379', '11385', '11411', '11412',\n",
              "       '11413', '11414', '11415', '11416', '11417', '11418', '11419',\n",
              "       '11420', '11421', '11422', '11423', '11426', '11427', '11428',\n",
              "       '11429', '11430', '11432', '11433', '11434', '11435', '11436',\n",
              "       '11548', '11553', '11557', '11559', '11561', '11576', '11580',\n",
              "       '11590', '11598', '11691', '11692', '11693', '11694', '11695',\n",
              "       '11697', '11709', '11710', '11727', '11735', '11757', '11797',\n",
              "       '12222', '14202', '14221', '1423', '14266', '21000', '23502',\n",
              "       '55164', '60179', '74020', '90091', '94524', '98036', '98057'],\n",
              "      dtype=object)"
            ]
          },
          "metadata": {
            "tags": []
          },
          "execution_count": 34
        }
      ]
    },
    {
      "cell_type": "markdown",
      "metadata": {
        "id": "G9-eMe9X1z6_"
      },
      "source": [
        "[Data Wrangling Using Pandas](https://towardsdatascience.com/data-wrangling-using-pandas-library-ae26f8bbbdd2)\n",
        "\n",
        "[Cooking with Pandas](https://jvns.ca/blog/2013/12/22/cooking-with-pandas/)\n",
        "\n",
        "[Latihan](https://www.kaggle.com/abhi8923shriv/pandas-library-15-exercises)\n",
        "\n",
        "[Another Case Study](https://towardsdatascience.com/a-data-science-case-study-with-python-mercari-price-prediction-4e852d95654)\n",
        "\n",
        "[Python Data Wrangling Tutorial](https://elitedatascience.com/python-data-wrangling-tutorial)"
      ]
    }
  ]
}